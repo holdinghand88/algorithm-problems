{
  "nbformat": 4,
  "nbformat_minor": 0,
  "metadata": {
    "colab": {
      "provenance": []
    },
    "kernelspec": {
      "name": "python3",
      "display_name": "Python 3"
    },
    "language_info": {
      "name": "python"
    }
  },
  "cells": [
    {
      "cell_type": "code",
      "execution_count": 3,
      "metadata": {
        "colab": {
          "base_uri": "https://localhost:8080/"
        },
        "id": "INJF4zsel9_4",
        "outputId": "661aa9b5-7d0c-4e24-9819-6dc4473d4c5a"
      },
      "outputs": [
        {
          "output_type": "stream",
          "name": "stdout",
          "text": [
            "3 3 3\n",
            "2 1\n",
            "FRB\n",
            "3 6 2\n",
            "0 4 1\n",
            "5 0 7\n",
            "3\n",
            "6\n",
            "4\n"
          ]
        }
      ],
      "source": [
        "# Read input\n",
        "N, H, W = map(int, input().split())\n",
        "sy, sx = map(int, input().split())\n",
        "s = input().strip()\n",
        "\n",
        "# Read the chocolate grid\n",
        "chocolates = []\n",
        "for i in range(H):\n",
        "    row = list(map(int, input().split()))\n",
        "    chocolates.append(row)\n",
        "\n",
        "# Convert to 0-indexed coordinates\n",
        "current_y = sy - 1\n",
        "current_x = sx - 1\n",
        "\n",
        "# Direction mappings\n",
        "directions = {\n",
        "    'F': (-1, 0),  # Forward (up)\n",
        "    'B': (1, 0),   # Back (down)\n",
        "    'L': (0, -1),  # Left\n",
        "    'R': (0, 1)    # Right\n",
        "}\n",
        "\n",
        "# Collect chocolates\n",
        "collected = []\n",
        "\n",
        "for direction in s:\n",
        "    dy, dx = directions[direction]\n",
        "    current_y += dy\n",
        "    current_x += dx\n",
        "\n",
        "    # Collect chocolates from current position\n",
        "    chocolates_received = chocolates[current_y][current_x]\n",
        "    collected.append(chocolates_received)\n",
        "\n",
        "# Output results\n",
        "for chocolate_count in collected:\n",
        "    print(chocolate_count)"
      ]
    },
    {
      "cell_type": "code",
      "source": [],
      "metadata": {
        "id": "jNaidj8-mele"
      },
      "execution_count": 3,
      "outputs": []
    }
  ]
}